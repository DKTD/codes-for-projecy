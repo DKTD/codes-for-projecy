# DO NOT FORGET TO USE THE SHELL COMMAND BEFORE RUNNING THIS FILE:
# source /usr/local/pyurdme/pyurdme_init

import numpy as np
import pickle
import dill

f = open("molns_data/pyObj", "rb")
result = dill.load(f)
data = result['U']
print "U = ", data, type(data)
obj = result.model
k1 = obj.get_parameter("k1")
print "k1 = ", k1, type(k1)
k2 = obj.get_parameter("k2")
print "k2 = ", k2, type(k2)
alpha_m = obj.get_parameter("alpha_m")
print "alpha_m = ", alpha_m, type(alpha_m)
alpha_m_gamma = obj.get_parameter("alpha_m_gamma")
print "alpha_m_gamma = ", alpha_m_gamma, type(alpha_m_gamma)
alpha_p = obj.get_parameter("alpha_p")
print "alpha_p = ", alpha_p, type(alpha_p)
mu_m = obj.get_parameter("mu_m")
print "mu_m = ", mu_m, type(mu_m)
mu_p = obj.get_parameter("mu_p")
print "mu_p = ", mu_p, type(mu_p)
f.close()

# First X rows of the matrix U = 3 x 44076 for plotting
x = 100
dene = data[:x,:]
with open("deneme.dat", "wb+") as fi:
	pickle.dump(dene,fi)

with open("our_data/u1.dat", "wb+") as fi:
	#pickle.dump(data, fi)
	pickle.dump((k1, k2, alpha_m, alpha_m_gamma, alpha_p, mu_m, mu_p), fi)
#fi.close()

with open("our_data/u1.dat", "rb") as fi:
	obj = pickle.load(fi)
	print obj[0], type(obj[0])

#d = np.array_split(data, 4, axis = 1)
#print d
